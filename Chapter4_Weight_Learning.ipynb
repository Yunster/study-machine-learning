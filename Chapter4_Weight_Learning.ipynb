{
 "cells": [
  {
   "cell_type": "markdown",
   "metadata": {},
   "source": [
    "## Chapter4. 신경망 학습"
   ]
  },
  {
   "cell_type": "markdown",
   "metadata": {},
   "source": [
    "### 4.1. 데이터 기반학습\n",
    "* 신경망은 입력(x)에 대해 올바른 출력(y)을 결정하는 가중치(w)를 정하는 것이 관건이다.\n",
    "* 2개층을 갖는 XOR같은 간단한 신경망의 경우 가중치가 몇 개 안되지만 풀려고 하는 문제에 따라 가중치의 개수는 늘어난다. 수천개에서 수만개가 넘을 수 도 있다. 그 가중치들을 사람이 계산해서 입력하는 것은 불가능에 가깝다.\n",
    "* 그렇다면 그 가중치를 계산하는 것이 관건인데 신경망은 역전파 알고리즘을 통해 학습한다.\n",
    "* 여기서는 신경망 학습에 대한 여러 요소들을 익히고 다음장에서 역전파 알고리즘을 구현하자.\n",
    "> 참조"
   ]
  },
  {
   "cell_type": "markdown",
   "metadata": {},
   "source": [
    "### 4.2. 손실함수\n",
    "* \n",
    "* 손실함수는 loss function 또는 cost function 이라고 한다.\n",
    "\n",
    "#### 4.2.1 평균 제곱 오차(mean squared error, MES\n",
    "> \\\\(E=\\frac { 1 }{ 2 } \\sum _{ K }^{  }{ { ({ y }_{ k }-{ t }_{ k }) }^{ 2 } }  \\\\)\n",
    "* 출력 y와 정답t의 차이의 제곱 평균의 1/2입니다.\n",
    "* ㅇㄹㅇ \n",
    "\n",
    "#### 4.2.2 교차 엔트로피 오차(cross entropy error, CEE)\n",
    "> \\\\(E=-\\sum _{ K }^{  }{ { t }_{ k }\\log { { y }_{ k } }  } \\\\)\n",
    "* log는 밑이 e인 자연로그이다. \n",
    "* 정답이 true/false인 경우 결국 1/0 이기때문에 교차 엔트로피의 결과는 y의 자연로그이거나 0이다.\n",
    "* 다음은 자연 로그에 대한 그래프이다.\n",
    "![](https://upload.wikimedia.org/wikipedia/commons/thumb/e/ea/Log.svg/300px-Log.svg.png)\n",
    "* log함수의 x가 1일때는 0, x가 0에 가까워 질수록 음수로 떨어진다. \n",
    "* 즉 신경망 출력y의 값이 크고 정답이면 0, 정답이 아니면 작은수를 합쳐 부호를 변환하여 오차를 구한다.\n",
    "\n",
    "#### 4.2.3 미니배치 학습(mini-batch)\n",
    "* 실제 학습데이터를 기반으로 손실함수를 구할 때, 데이터가 100개면 100개의 손실함수를 계산해야한다.\n",
    "* 아래는 n개의 데이터에 대한 교차 엔트로피 오차 공식이다.\n",
    "> \\\\(E=-\\frac { 1 }{ N } \\sum _{ n }^{  }{ \\sum _{ k }^{  }{ { t }_{ nk }log{ y }_{ nk } }  } \\\\)\n",
    "* 데이터가 무수히 많아질 때는 학습 시간등을 고려하여 모든 데이터 중 일부를 무작위로 선택해 학습을 진행한다.\n",
    "* 이것이 미니배치이다.\n",
    "\n",
    "#### 4.2.4 손실함수의 역활\n",
    "* \n",
    "*\n",
    "*"
   ]
  },
  {
   "cell_type": "markdown",
   "metadata": {},
   "source": [
    "### 4.3. 수치 미분\n",
    "#### 4.3.1 미분\n",
    "*\n",
    "*\n",
    "*\n",
    "\n",
    "#### 4.3.2 편미분\n",
    "*\n",
    "*\n",
    "*"
   ]
  },
  {
   "cell_type": "markdown",
   "metadata": {},
   "source": [
    "### 4.4 기울기\n",
    "#### 4.4.1 경사 하강법\n",
    "#### 4.4.2 신경망에서 기울기\n"
   ]
  },
  {
   "cell_type": "markdown",
   "metadata": {},
   "source": [
    "### 4.5 구현"
   ]
  },
  {
   "cell_type": "code",
   "execution_count": null,
   "metadata": {
    "collapsed": true
   },
   "outputs": [],
   "source": []
  },
  {
   "cell_type": "code",
   "execution_count": null,
   "metadata": {
    "collapsed": true
   },
   "outputs": [],
   "source": []
  },
  {
   "cell_type": "code",
   "execution_count": 1,
   "metadata": {
    "collapsed": true
   },
   "outputs": [],
   "source": []
  },
  {
   "cell_type": "code",
   "execution_count": 4,
   "metadata": {},
   "outputs": [],
   "source": [
    "import numpy as np\n",
    "def mean_squared_error(y,t):\n",
    "    return 0.5 * np.sum((y-t)**2)\n",
    "\n",
    "def cross_entropy_error(y,t):\n",
    "    delta = 1e-7\n",
    "    return -1*np.sum(t*np.log(y+delta))"
   ]
  },
  {
   "cell_type": "code",
   "execution_count": 5,
   "metadata": {
    "collapsed": true
   },
   "outputs": [],
   "source": [
    "def numerical_diff(f,x):\n",
    "    h = 1e-4\n",
    "    return (f(x+h)-f(x-h)) / (2*h)"
   ]
  },
  {
   "cell_type": "code",
   "execution_count": null,
   "metadata": {
    "collapsed": true
   },
   "outputs": [],
   "source": []
  },
  {
   "cell_type": "code",
   "execution_count": null,
   "metadata": {
    "collapsed": true
   },
   "outputs": [],
   "source": []
  },
  {
   "cell_type": "markdown",
   "metadata": {},
   "source": [
    "### 4.6 몇가지 용어"
   ]
  }
 ],
 "metadata": {
  "kernelspec": {
   "display_name": "Python 3",
   "language": "python",
   "name": "python3"
  },
  "language_info": {
   "codemirror_mode": {
    "name": "ipython",
    "version": 3
   },
   "file_extension": ".py",
   "mimetype": "text/x-python",
   "name": "python",
   "nbconvert_exporter": "python",
   "pygments_lexer": "ipython3",
   "version": "3.6.2"
  }
 },
 "nbformat": 4,
 "nbformat_minor": 2
}
